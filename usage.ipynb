{
 "cells": [
  {
   "cell_type": "code",
   "execution_count": null,
   "id": "3a04a4fa",
   "metadata": {},
   "outputs": [],
   "source": [
    "import logging\n",
    "from io import StringIO\n",
    "\n",
    "import matplotlib.pyplot as plt\n",
    "import numpy as np\n",
    "import pandas as pd\n",
    "import seaborn as sns\n",
    "from datasets import load_dataset\n",
    "\n",
    "from src.model import ChemicalMetaRegressor\n",
    "\n",
    "np.random.seed(42)\n",
    "ds = load_dataset(\"openadmet/openadmet-expansionrx-challenge-train-data\")\n",
    "ds_test = load_dataset(\"openadmet/openadmet-expansionrx-challenge-test-data-blinded\")\n",
    "train_df = ds[\"train\"].to_pandas()\n",
    "test_df = ds_test[\"test\"].to_pandas()"
   ]
  },
  {
   "cell_type": "code",
   "execution_count": null,
   "id": "4b41793b",
   "metadata": {},
   "outputs": [],
   "source": [
    "data = \"\"\"Assay,Log_Scale,Multiplier,Log_name\n",
    "LogD,False,1,LogD\n",
    "KSOL,True,1e-6,LogS\n",
    "HLM CLint,True,1,Log_HLM_CLint\n",
    "MLM CLint,True,1,Log_MLM_CLint\n",
    "Caco-2 Permeability Papp A>B,True,1e-6,Log_Caco_Papp_AB\n",
    "Caco-2 Permeability Efflux,True,1,Log_Caco_ER\n",
    "MPPB,True,1,Log_Mouse_PPB\n",
    "MBPB,True,1,Log_Mouse_BPB\n",
    "MGMB,True,1,Log_Mouse_MPB\n",
    "\"\"\"\n",
    "s = StringIO(data)\n",
    "conversion_df = pd.read_csv(s)\n",
    "conversion_dict = dict([(x[0], x[1:]) for x in conversion_df.values])\n",
    "log_train_df = train_df[[\"SMILES\", \"Molecule Name\"]].copy()\n",
    "for col in train_df.columns[2:]:\n",
    "    log_scale, multiplier, short_name = conversion_dict[col]\n",
    "    log_train_df[short_name] = train_df[col].astype(float)\n",
    "    if log_scale:\n",
    "        log_train_df[short_name] = log_train_df[short_name] + 1\n",
    "        log_train_df[short_name] = np.log10(log_train_df[short_name] * multiplier)\n",
    "\n",
    "figure, axes = plt.subplots(3, 3, figsize=(10, 7))\n",
    "axes = axes.flatten()\n",
    "log_col_names = log_train_df.columns[2:]\n",
    "for i, col in enumerate(log_col_names):\n",
    "    ax = sns.histplot(log_train_df[col], ax=axes[i])\n",
    "    ax.set_title(f\"N = {len(log_train_df.dropna(subset=col))}\")\n",
    "plt.tight_layout()"
   ]
  },
  {
   "cell_type": "code",
   "execution_count": null,
   "id": "d68f2dd2",
   "metadata": {},
   "outputs": [],
   "source": [
    "logging.basicConfig(\n",
    "    level=logging.INFO,\n",
    "    format=\"[%(asctime)s] %(levelname)s [%(module)s]: %(message)s\",\n",
    ")\n",
    "\n",
    "reg = ChemicalMetaRegressor(\n",
    "    smiles_col=\"SMILES\",\n",
    "    target_cols=log_train_df.columns[2:],\n",
    "    training_data=log_train_df,\n",
    ")\n",
    "reg.train_models(n_keep_classical=3, tune_hyperparameters=False)"
   ]
  },
  {
   "cell_type": "code",
   "execution_count": null,
   "id": "3198f14b",
   "metadata": {},
   "outputs": [],
   "source": [
    "prediction_df = reg.predict(test_df[\"SMILES\"], return_model_choices=True)\n",
    "prediction_df = (\n",
    "    test_df[[\"SMILES\", \"Molecule Name\"]]\n",
    "    .merge(prediction_df, left_on=\"SMILES\", right_index=True)\n",
    "    .set_index(\"SMILES\")\n",
    ")\n",
    "prediction_df"
   ]
  },
  {
   "cell_type": "code",
   "execution_count": null,
   "id": "83bfab10",
   "metadata": {},
   "outputs": [],
   "source": [
    "import warnings\n",
    "\n",
    "log_train_df[\"dataset\"] = \"train\"\n",
    "prediction_df[\"dataset\"] = \"test\"\n",
    "combo_cols = [\"Molecule Name\", \"dataset\"] + list(log_col_names)\n",
    "combo_df = pd.concat(\n",
    "    [log_train_df[combo_cols], prediction_df[combo_cols]], ignore_index=True\n",
    ")\n",
    "combo_df[list(log_col_names)] = combo_df[list(log_col_names)].clip(-10, 10)\n",
    "# transform the data to \"tall\" format\n",
    "melt_df = combo_df.melt(id_vars=[\"Molecule Name\", \"dataset\"])\n",
    "melt_df.columns = [\"Molecule Name\", \"dataset\", \"Assay\", \"Log_Value\"]\n",
    "# plot the box plot\n",
    "ax = sns.boxplot(x=\"Assay\", y=\"Log_Value\", hue=\"dataset\", data=melt_df)\n",
    "labels = [x.get_text() for x in ax.get_xticklabels()]\n",
    "with warnings.catch_warnings():\n",
    "    warnings.simplefilter(\"ignore\", UserWarning)\n",
    "    ax.set_xticklabels([\"\\n\".join(x.split(\"_\")) for x in labels])"
   ]
  },
  {
   "cell_type": "code",
   "execution_count": null,
   "id": "05e3183c",
   "metadata": {},
   "outputs": [],
   "source": [
    "reverse_dict = dict([(x[-1], x[0:-1]) for x in conversion_df.values])\n",
    "prediction_df = prediction_df.reset_index()\n",
    "output_df = prediction_df[[\"SMILES\", \"Molecule Name\"]].copy()\n",
    "for col in prediction_df.columns:\n",
    "    if col not in reverse_dict:\n",
    "        continue\n",
    "    orig_name, log_scale, multiplier = reverse_dict[col]\n",
    "    output_df[orig_name] = prediction_df[col]\n",
    "    if log_scale:\n",
    "        output_df[orig_name] = 10 ** output_df[orig_name] * 1 / multiplier - 1\n",
    "\n",
    "output_df.to_csv(\"submission.csv\", index=False)\n",
    "output_df"
   ]
  },
  {
   "cell_type": "code",
   "execution_count": null,
   "id": "5e8d27f6",
   "metadata": {},
   "outputs": [],
   "source": []
  }
 ],
 "metadata": {
  "kernelspec": {
   "display_name": "OpenADMET_challenge",
   "language": "python",
   "name": "python3"
  },
  "language_info": {
   "codemirror_mode": {
    "name": "ipython",
    "version": 3
   },
   "file_extension": ".py",
   "mimetype": "text/x-python",
   "name": "python",
   "nbconvert_exporter": "python",
   "pygments_lexer": "ipython3",
   "version": "3.12.12"
  }
 },
 "nbformat": 4,
 "nbformat_minor": 5
}
